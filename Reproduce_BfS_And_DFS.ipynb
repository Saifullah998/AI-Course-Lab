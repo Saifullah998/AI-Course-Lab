{
  "nbformat": 4,
  "nbformat_minor": 0,
  "metadata": {
    "colab": {
      "provenance": []
    },
    "kernelspec": {
      "name": "python3",
      "display_name": "Python 3"
    },
    "language_info": {
      "name": "python"
    }
  },
  "cells": [
    {
      "cell_type": "code",
      "execution_count": 4,
      "metadata": {
        "colab": {
          "base_uri": "https://localhost:8080/"
        },
        "id": "jp9TFprzBlSl",
        "outputId": "c3e9126b-c463-46c1-89e9-8cc17a1fa860"
      },
      "outputs": [
        {
          "output_type": "stream",
          "name": "stdout",
          "text": [
            "BFS Shortest Path from Naran to Gilgit: ['Naran', 'Gilgit']\n",
            "DFS Path from Naran to Gilgit: ['Naran', 'Gilgit']\n"
          ]
        }
      ],
      "source": [
        "from collections import deque\n",
        "\n",
        "pakistan_cities = {\n",
        "    'Islamabad': ['Rawalpindi'],\n",
        "    'Rawalpindi': ['Haripur', 'Texila'],\n",
        "    'Texila': ['Haripur', 'Manshera', 'Abbottabad'],\n",
        "    'Abbottabad': ['Nathigali', 'Naran'],\n",
        "    'Naran': ['Gilgit'],\n",
        "    'Gilgit': ['Skardu', 'Kashmir'],\n",
        "    'Kashmir': ['Jammu and Kashmir', 'Muree'],\n",
        "    'Muree': ['Islamabad']\n",
        "}\n",
        "\n",
        "# create function with three parameters\n",
        "def bfs(graph, start, goal):\n",
        "    # create deque for addition and deletion for both side\n",
        "    queue = deque([[start]])\n",
        "\n",
        "    # now we create a variable where i can store visited node\n",
        "    visited = set()\n",
        "\n",
        "    # now i start a loop where he it can check every node and give me desired search result\n",
        "    while queue:\n",
        "        # at here i pop first element which enters first (fifo)\n",
        "        path = queue.popleft()\n",
        "        # get node where i am right now\n",
        "        current_city = path[-1]\n",
        "\n",
        "        # at here i finally gets my goal\n",
        "        if current_city == goal:\n",
        "            return path\n",
        "\n",
        "        # if the current city not visited yet than mark visited\n",
        "        if current_city not in visited:\n",
        "            visited.add(current_city)\n",
        "\n",
        "            # at here we just get the neighbor of the main node if found then return if not just simply get empty\n",
        "            for neighbor in graph.get(current_city, []):\n",
        "                # create new path where ii can get copy of current path\n",
        "                new_path = list(path)\n",
        "                # at here add neighbor city in path\n",
        "                new_path.append(neighbor)\n",
        "\n",
        "                # now add this in queue to explore next\n",
        "                queue.append(new_path)\n",
        "\n",
        "    # at here you dont find goal and queue is empty then return none\n",
        "    return None\n",
        "\n",
        "\n",
        "def dfs_path(graph, start, goal, path=None, visited=None):\n",
        "    # if dont have path argument just simply create it\n",
        "    if path is None:\n",
        "        path = []\n",
        "\n",
        "    # if visited argument not found then create empty set\n",
        "    if visited is None:\n",
        "        visited = set()\n",
        "\n",
        "    # Start city add in path and create visited mark\n",
        "    path.append(start)\n",
        "    visited.add(start)\n",
        "\n",
        "    # if start city is the goal city ,then return a path\n",
        "    if start == goal:\n",
        "        return path\n",
        "\n",
        "    ## explore every neighbor recursively\n",
        "    for neighbor in graph.get(start, []):\n",
        "        if neighbor not in visited:\n",
        "            result = dfs_path(graph, neighbor, goal, path.copy(), visited.copy())\n",
        "            # if find goal then simply return goal\n",
        "            if result:\n",
        "                return result\n",
        "    # if not found then simply return\n",
        "    return None\n",
        "\n",
        "\n",
        "# now test the function\n",
        "\n",
        "start_city = \"Naran\"\n",
        "goal_city = \"Gilgit\"     # Capital G fix kiya taaki dictionary key se match kare\n",
        "\n",
        "bfs_result = bfs(pakistan_cities, start_city, goal_city)\n",
        "print(\"BFS Shortest Path from Naran to Gilgit:\", bfs_result)\n",
        "\n",
        "dfs_result = dfs_path(pakistan_cities, start_city, goal_city)\n",
        "print(\"DFS Path from Naran to Gilgit:\", dfs_result)\n"
      ]
    },
    {
      "cell_type": "code",
      "source": [],
      "metadata": {
        "id": "O1jsYt93FoLL"
      },
      "execution_count": null,
      "outputs": []
    }
  ]
}
