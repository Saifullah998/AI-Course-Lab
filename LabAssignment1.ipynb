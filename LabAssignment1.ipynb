{
  "nbformat": 4,
  "nbformat_minor": 0,
  "metadata": {
    "colab": {
      "provenance": []
    },
    "kernelspec": {
      "name": "python3",
      "display_name": "Python 3"
    },
    "language_info": {
      "name": "python"
    }
  },
  "cells": [
    {
      "cell_type": "markdown",
      "source": [
        "**Task 2**"
      ],
      "metadata": {
        "id": "aX2ETgK9c-0e"
      }
    },
    {
      "cell_type": "code",
      "source": [
        "Student = {\n",
        "  \"name\": \"Saifullah\",\n",
        "  \"age\": \"22\",\n",
        "  \"Roll_number\": \"200\",\n",
        "  \"Grade\": \"A\",\n",
        "}\n",
        "print(\"Student Information:\")\n",
        "for key, value in Student.items():\n",
        "    print(f\"{key}:{value}\")\n",
        "Student[\"Grade\"] = \"B-\"\n",
        "print(\"\\nUpdated Student Information:\", Student[\"Grade\"])\n",
        "Student[\"Email\"]=\"saifullahkhan@gmail.com\"\n",
        "print(\"\\nAdded email in Student Information:\", Student[\"Email\"])\n",
        "del Student[\"Roll_number\"]\n",
        "print(\"\\n\", Student)"
      ],
      "metadata": {
        "colab": {
          "base_uri": "https://localhost:8080/"
        },
        "id": "mTpPVIjAdG48",
        "outputId": "41668c18-024f-428f-a45b-5fe5977f0f6e"
      },
      "execution_count": 1,
      "outputs": [
        {
          "output_type": "stream",
          "name": "stdout",
          "text": [
            "Student Information:\n",
            "name:Saifullah\n",
            "age:22\n",
            "Roll_number:200\n",
            "Grade:A\n",
            "\n",
            "Updated Student Information: B-\n",
            "\n",
            "Added email in Student Information: saifullahkhan@gmail.com\n",
            "\n",
            " {'name': 'Saifullah', 'age': '22', 'Grade': 'B-', 'Email': 'saifullahkhan@gmail.com'}\n"
          ]
        }
      ]
    },
    {
      "cell_type": "markdown",
      "source": [
        "**Task 3**"
      ],
      "metadata": {
        "id": "ZgBayzBTdNyt"
      }
    },
    {
      "cell_type": "code",
      "source": [
        "import matplotlib.pyplot as plt\n",
        "import numpy as np\n",
        "xpoints = [1,2,3,8,5]\n",
        "ypoints = [2,4,1,8,7]\n",
        "plt.plot(xpoints, ypoints)\n",
        "plt.title(\"Task no 3\")\n",
        "plt.xlabel(\"X-axis\")\n",
        "plt.ylabel(\"Y-axis\")\n",
        "plt.grid(True)\n",
        "plt.show()"
      ],
      "metadata": {
        "colab": {
          "base_uri": "https://localhost:8080/",
          "height": 472
        },
        "id": "-5G_1GH3dPxs",
        "outputId": "9f338d94-c71b-4132-d1af-4f79c1e7e062"
      },
      "execution_count": 2,
      "outputs": [
        {
          "output_type": "display_data",
          "data": {
            "text/plain": [
              "<Figure size 640x480 with 1 Axes>"
            ],
            "image/png": "[encoded data removed]"
          },
          "metadata": {}
        }
      ]
    },
    {
      "cell_type": "markdown",
      "source": [
        "**Task 4**"
      ],
      "metadata": {
        "id": "inO092fldiCC"
      }
    },
    {
      "cell_type": "code",
      "source": [
        "from collections import deque\n",
        "import time\n",
        "import tracemalloc\n",
        "def is_goal(state, target):\n",
        "    return target in state\n",
        "def get_next_state(state, jug1_capacity, jug2_capacity):\n",
        "    x, y = state\n",
        "    states = set()\n",
        "    states.add((jug1_capacity, y))\n",
        "    states.add((x, jug2_capacity))\n",
        "    states.add((0, y))\n",
        "    states.add((x, 0))\n",
        "    pour = min(x, jug2_capacity - y)\n",
        "    states.add((x - pour, y + pour))\n",
        "    pour = min(y, jug1_capacity - x)\n",
        "    states.add((x + pour, y - pour))\n",
        "    return states\n",
        "def bfs(jug1_capacity, jug2_capacity, target):\n",
        "    start = (0, 0)\n",
        "    visited = set()\n",
        "    queue = deque([(start, [start])])\n",
        "    while queue:\n",
        "        (x, y), path = queue.popleft()\n",
        "        if is_goal((x, y), target):\n",
        "            return path\n",
        "        for next_state in get_next_state((x, y), jug1_capacity, jug2_capacity):\n",
        "            if next_state not in visited:\n",
        "                visited.add(next_state)\n",
        "                queue.append((next_state, path + [next_state]))\n",
        "def dfs(jug1_capacity, jug2_capacity, target):\n",
        "    start = (0, 0)\n",
        "    visited = set()\n",
        "    stack = [(start, [start])]\n",
        "    while stack:\n",
        "        (x, y), path = stack.pop()\n",
        "        if is_goal((x, y), target):\n",
        "            return path\n",
        "        if (x, y) not in visited:\n",
        "            visited.add((x, y))\n",
        "            for next_state in get_next_state((x, y), jug1_capacity, jug2_capacity):\n",
        "                stack.append((next_state, path + [next_state]))\n",
        "    return None\n",
        "def compare_alogrihm():\n",
        "    jug1_capacity = 4\n",
        "    jug2_capacity = 3\n",
        "    target = 2\n",
        "    tracemalloc.start()\n",
        "    start_time = time.time()\n",
        "    bfs_path = bfs(jug1_capacity, jug2_capacity, target)\n",
        "    bfs_time = time.time() - start_time\n",
        "    bfs_memory = tracemalloc.get_traced_memory()[1]\n",
        "    tracemalloc.stop()\n",
        "    tracemalloc.start()\n",
        "    start_time = time.time()\n",
        "    dfs_path = dfs(jug1_capacity, jug2_capacity, target)\n",
        "    dfs_time = time.time() - start_time\n",
        "    dfs_memory = tracemalloc.get_traced_memory()[1]\n",
        "    tracemalloc.stop()\n",
        "    print(\"BFS Path:\", bfs_path)\n",
        "    print(\"BFS Time: {:.6f} seconds\".format(bfs_time))\n",
        "    print(\"BFS Memory: {} bytes\".format(bfs_memory))\n",
        "    print(\"DFS Path:\", dfs_path)\n",
        "    print(\"DFS Time: {:.6f} seconds\".format(dfs_time))\n",
        "    print(\"DFS Memory: {} bytes\".format(dfs_memory))\n",
        "tracemalloc.start()\n",
        "start_time = time.time()\n",
        "jug1_capacity = 4\n",
        "jug2_capacity = 3\n",
        "target = 2\n",
        "dfs_path = dfs(jug1_capacity, jug2_capacity, target)\n",
        "dfs_time = time.time() - start_time\n",
        "dfs_memory = tracemalloc.get_traced_memory()[1]\n",
        "tracemalloc.stop()\n",
        "print(\"DFS Path:\", dfs_path)\n",
        "print(\"DFS Time: {:.6f} seconds\".format(dfs_time))\n",
        "print(\"DFS Memory: {} bytes\".format(dfs_memory))\n",
        "compare_alogrihm()"
      ],
      "metadata": {
        "colab": {
          "base_uri": "https://localhost:8080/"
        },
        "id": "ZyjVWxcWdlQi",
        "outputId": "080e3659-0171-4ae0-a6a1-3f2889d5fd71"
      },
      "execution_count": 3,
      "outputs": [
        {
          "output_type": "stream",
          "name": "stdout",
          "text": [
            "DFS Path: [(0, 0), (0, 3), (4, 3), (4, 0), (1, 3), (1, 0), (0, 1), (4, 1), (2, 3)]\n",
            "DFS Time: 0.001349 seconds\n",
            "DFS Memory: 22075 bytes\n",
            "BFS Path: [(0, 0), (0, 3), (3, 0), (3, 3), (4, 2)]\n",
            "BFS Time: 0.000135 seconds\n",
            "BFS Memory: 2416 bytes\n",
            "DFS Path: [(0, 0), (0, 3), (4, 3), (4, 0), (1, 3), (1, 0), (0, 1), (4, 1), (2, 3)]\n",
            "DFS Time: 0.000175 seconds\n",
            "DFS Memory: 2752 bytes\n"
          ]
        }
      ]
    },
    {
      "cell_type": "markdown",
      "source": [
        "**Task 5**"
      ],
      "metadata": {
        "id": "AEm33kiWsUJa"
      }
    },
    {
      "cell_type": "code",
      "source": [
        "import heapq\n",
        "\n",
        "def heuristic(a, b):\n",
        "    # Manhattan distance\n",
        "    return abs(a[0] - b[0]) + abs(a[1] - b[1])\n",
        "\n",
        "def astar_search(maze, start, goal):\n",
        "    rows, cols = len(maze), len(maze[0])\n",
        "    open_set = []\n",
        "    heapq.heappush(open_set, (heuristic(start, goal), 0, start, [start]))\n",
        "    visited = set()\n",
        "\n",
        "    while open_set:\n",
        "        _, cost, current, path = heapq.heappop(open_set)\n",
        "\n",
        "        if current == goal:\n",
        "            return path  # Path found\n",
        "\n",
        "        if current in visited:\n",
        "            continue\n",
        "        visited.add(current)\n",
        "\n",
        "        x, y = current\n",
        "\n",
        "        # Explore neighbors (up, down, left, right)\n",
        "        for dx, dy in [(-1,0), (1,0), (0,-1), (0,1)]:\n",
        "            nx, ny = x + dx, y + dy\n",
        "            # Check bounds and walls\n",
        "            if 0 <= nx < rows and 0 <= ny < cols and maze[nx][ny] != 1:\n",
        "                new_cost = cost + 1\n",
        "                new_path = path + [(nx, ny)]\n",
        "                heapq.heappush(open_set, (new_cost + heuristic((nx, ny), goal), new_cost, (nx, ny), new_path))\n",
        "    return None  # No path found\n",
        "\n",
        "\n",
        "\n",
        "maze = [\n",
        "    [0,0,0,0,0,0],\n",
        "    [0,0,1,0,1,0],\n",
        "    [0,0,0,10,0,0],\n",
        "    [0,0,1,10,0,0],\n",
        "    [0,0,0,0,0,0],\n",
        "    [1,1,0,1,0,0]\n",
        "]\n",
        "\n",
        "start = (0, 0)\n",
        "goal = (5, 5)\n",
        "\n",
        "path = astar_search(maze, start, goal)\n",
        "\n",
        "print(\"A* Path from A to Y:\")\n",
        "print(path)\n",
        "print(\"\\nSteps Taken:\", len(path) - 1 if path else \"No Path Found\")\n"
      ],
      "metadata": {
        "colab": {
          "base_uri": "https://localhost:8080/"
        },
        "id": "Aqd-lCXwsWky",
        "outputId": "f7144b68-26f2-417c-c3b4-91c85d74e04e"
      },
      "execution_count": 6,
      "outputs": [
        {
          "output_type": "stream",
          "name": "stdout",
          "text": [
            "A* Path from A to Y:\n",
            "[(0, 0), (0, 1), (0, 2), (0, 3), (0, 4), (0, 5), (1, 5), (2, 5), (3, 5), (4, 5), (5, 5)]\n",
            "\n",
            "Steps Taken: 10\n"
          ]
        }
      ]
    }
  ]
}