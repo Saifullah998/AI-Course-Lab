{
  "nbformat": 4,
  "nbformat_minor": 0,
  "metadata": {
    "colab": {
      "provenance": [],
      "toc_visible": true
    },
    "kernelspec": {
      "name": "python3",
      "display_name": "Python 3"
    },
    "language_info": {
      "name": "python"
    }
  },
  "cells": [
    {
      "cell_type": "code",
      "execution_count": 17,
      "metadata": {
        "colab": {
          "base_uri": "https://localhost:8080/"
        },
        "id": "fmXwNEZ36umm",
        "outputId": "28d0b98e-1957-491e-ed44-13879851b8ea"
      },
      "outputs": [
        {
          "output_type": "stream",
          "name": "stdout",
          "text": [
            "original List [1, 2, 3, 4, 5, 6, 7, 8, 9, 10]\n",
            "sum 55\n",
            "max 10\n",
            "min 1\n",
            "add in List [1, 2, 3, 4, 5, 6, 7, 8, 9, 10, 11]\n",
            "remove in List [1, 2, 3, 4, 6, 7, 8, 9, 10, 11]\n",
            "original List [1, 2, 3, 4, 6, 7, 8, 9, 10, 11]\n",
            "sort array in assending [1, 2, 3, 4, 6, 7, 8, 9, 10, 11]\n",
            "decending array [11, 10, 9, 8, 7, 6, 4, 3, 2, 1]\n"
          ]
        }
      ],
      "source": []
    },
    {
      "cell_type": "markdown",
      "source": [
        "# 1.**List**"
      ],
      "metadata": {
        "id": "6qoQ4NSu_yxd"
      }
    },
    {
      "cell_type": "code",
      "source": [
        "#list of integer value\n",
        "a=[1,2,3,4,5,6,7,8,9,10]\n",
        "print('original List',a)\n",
        "#2 Find sum,max,min\n",
        "print('sum',sum(a))\n",
        "print('max',max(a))\n",
        "print('min',min(a))\n",
        "\n",
        "#3 add new Element and remove\n",
        "\n",
        "a.append(11)\n",
        "print('add in List',a)\n",
        "\n",
        "a.remove(5)\n",
        "print('remove in List',a)\n",
        "\n",
        "#4print new List\n",
        "print('original List',a)\n",
        "\n",
        "#5 sort th list in ascending and decending order\n",
        "print('sort array in assending',sorted(a))\n",
        "print('decending array',sorted(a,reverse=True))"
      ],
      "metadata": {
        "id": "aDpUD5-2DiCl"
      },
      "execution_count": null,
      "outputs": []
    },
    {
      "cell_type": "markdown",
      "source": [
        "# 2. **Tuples**"
      ],
      "metadata": {
        "id": "iSk52qwTFOUl"
      }
    },
    {
      "cell_type": "code",
      "source": [
        "#1 create a tuple with 5 Strings\n",
        "fruits=('Apple','Mango','Banana','orange','watermelon')\n",
        "\n",
        "#print 2 and 4 element\n",
        "print('',fruits[2])\n",
        "print('',fruits[4])\n",
        "\n",
        "#3. Try to modify an element and the error\n",
        "# fruits.append('grapes')\n",
        "# fruits.remove('Apple')\n",
        "\n",
        "#convert the tiple into list and them modify it\n",
        "fruit_list=list(fruits)\n",
        "fruit_list[2]='Grapes'\n",
        "print(\"Modified List\",fruit_list)\n"
      ],
      "metadata": {
        "colab": {
          "base_uri": "https://localhost:8080/"
        },
        "id": "6or3_OQ9FTpm",
        "outputId": "ab220afc-feb1-4f5e-fa36-80150f91800d"
      },
      "execution_count": 26,
      "outputs": [
        {
          "output_type": "stream",
          "name": "stdout",
          "text": [
            " Banana\n",
            " watermelon\n",
            "Modified List ['Apple', 'Mango', 'Grapes', 'orange', 'watermelon']\n"
          ]
        }
      ]
    },
    {
      "cell_type": "markdown",
      "source": [
        "# 3. **Sets**"
      ],
      "metadata": {
        "id": "yYZYawWfHvGl"
      }
    },
    {
      "cell_type": "code",
      "source": [
        "#1 create two sets with  some common and unique elements\n",
        "\n",
        "a = {1, 2, 3, 4, 5}\n",
        "b = {1,2,3,4, 9, 6, 7, 8}\n",
        "print('a sets',a)\n",
        "print('b sets',b)\n",
        "\n",
        "#2 perform unions ,intesection,and diff operations\n",
        "print('Union',a|b)\n",
        "print('Intersection',a & b)\n",
        "print('Difference (a - b):', a - b)"
      ],
      "metadata": {
        "colab": {
          "base_uri": "https://localhost:8080/"
        },
        "id": "qh6a0n6MHxGG",
        "outputId": "d9a375ac-091f-49b9-f3d6-781a8621bd3a"
      },
      "execution_count": 37,
      "outputs": [
        {
          "output_type": "stream",
          "name": "stdout",
          "text": [
            "a sets {1, 2, 3, 4, 5}\n",
            "b sets {1, 2, 3, 4, 6, 7, 8, 9}\n",
            "Union {1, 2, 3, 4, 5, 6, 7, 8, 9}\n",
            "Intersection {1, 2, 3, 4}\n",
            "Difference (a - b): {5}\n"
          ]
        }
      ]
    },
    {
      "cell_type": "markdown",
      "source": [
        "# 4. **Dictionaries**"
      ],
      "metadata": {
        "id": "lduKImCtJzIG"
      }
    },
    {
      "cell_type": "code",
      "source": [
        "#create dictionary\n",
        "students={'ali':1,'sardar':2,'saif':3}\n",
        "\n",
        "#PRINT keys and values\n",
        "\n",
        "print('keys',students.keys())\n",
        "print('values',students.values)\n",
        "\n",
        "#values updated\n",
        "print('updated dictionary',students)"
      ],
      "metadata": {
        "colab": {
          "base_uri": "https://localhost:8080/"
        },
        "id": "hVLtJHn0J2Wf",
        "outputId": "ee67f801-c6be-4e3b-8b53-cb90ae6dfa57"
      },
      "execution_count": 38,
      "outputs": [
        {
          "output_type": "stream",
          "name": "stdout",
          "text": [
            "keys dict_keys(['ali', 'sardar', 'saif'])\n",
            "values <built-in method values of dict object at 0x78817fc1dac0>\n",
            "updated dictionary {'ali': 1, 'sardar': 2, 'saif': 3}\n"
          ]
        }
      ]
    }
  ]
}