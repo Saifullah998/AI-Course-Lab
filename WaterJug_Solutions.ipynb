{
  "nbformat": 4,
  "nbformat_minor": 0,
  "metadata": {
    "colab": {
      "provenance": []
    },
    "kernelspec": {
      "name": "python3",
      "display_name": "Python 3"
    },
    "language_info": {
      "name": "python"
    }
  },
  "cells": [
    {
      "cell_type": "code",
      "source": [
        "#reflection questions\n",
        "#1. Compare the solution paths found by BFS, DFS, and A*\n",
        "#BFS Solution Path:\n",
        "#(0, 0) → (4, 0) → (1, 3)\n",
        "#Explanation:\n",
        "#BFS explores all states level by level (shortest path first).\n",
        "#It quickly finds a path where Jug1 contains 1 liter and Jug2 contains 3 liters, achieving the goal (1 liter).\n",
        "\n",
        "\n",
        "\n",
        "\n",
        "#FS Solution Path:\n",
        "#(0, 0) → (0, 3) → (3, 0) → (3, 3) → (4, 2) → (4, 0) → (1, 3)\n",
        "#Explanation:\n",
        "#DFS goes deep into one branch before backtracking.\n",
        "#It explores more states and takes a longer path before reaching the goal.\n",
        "\n",
        "\n",
        "#A* Solution Path:\n",
        "#(0, 0) → (4, 0) → (1, 3)\n",
        "#Explanation:\n",
        "#A* uses a heuristic function (min(abs(x - GOAL), abs(y - GOAL))) to guide the search toward the goal.\n",
        "#It finds the same shortest path as BFS, but uses heuristics to focus the search.\n",
        "\n",
        "\n",
        "\n",
        "\n",
        "\n",
        "\n",
        "\n",
        "\n",
        "#Question 2 : Which algorithm gives the shortest path? Why?\n",
        "#Shortest Path: BFS and A* both produce the shortest path\n",
        "\n",
        "#(0, 0) → (4, 0) → (1, 3)\n",
        "\n",
        "#Reason:\n",
        "#BFS explores all possible states at each depth before moving deeper, so the first time it reaches the goal is guaranteed to be the shortest path.\n",
        "#A* uses the heuristic function to prioritize promising states, effectively finding the optimal path when the heuristic is admissible (never overestimates the cost).\n",
        "#DFS does not guarantee the shortest path because it may explore longer or unnecessary paths first.\n",
        "\n",
        "\n",
        "\n",
        "\n",
        "\n",
        "\n",
        "#question no 3: Which algorithm is more efficient in terms of time and memory?\n",
        "#Algorithm\tTime Efficiency\tMemory Efficiency\tNotes\n",
        "#BFS\tmore Time-consuming (explores all nodes level-wise)\tmMemory heavy (stores all nodes in the current level)\tGood for shortest path but uses more memory\n",
        "#DFS\tTime-efficient in small problems (may find a path quickly)\tMemory-efficient (uses stack, stores only current path)\tNot guaranteed shortest path\n",
        "#A*\tTime-efficient (guided by heuristic)\tModerate memory (stores priority queue)\tMost efficient when heuristic is good\n",
        "\n",
        "#Overall Efficiency Winner: A*\n",
        "#Because it uses heuristic guidance to reduce unnecessary exploration while still finding the optimal path"
      ],
      "metadata": {
        "id": "9wbebMDngAx_"
      },
      "execution_count": 1,
      "outputs": []
    },
    {
      "cell_type": "code",
      "source": [],
      "metadata": {
        "id": "JQE0liI_gCtI"
      },
      "execution_count": 1,
      "outputs": []
    }
  ]
}